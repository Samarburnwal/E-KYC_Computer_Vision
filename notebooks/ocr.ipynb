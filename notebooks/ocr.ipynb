{
 "cells": [
  {
   "cell_type": "code",
   "execution_count": 1,
   "id": "7178007f",
   "metadata": {},
   "outputs": [],
   "source": [
    "import re\n",
    "\n",
    "def extract_aadhar_details(text):\n",
    "    name_pattern = r'([A-Z][a-z]+(?:\\s[A-Z][a-z]+)+)'\n",
    "    dob_pattern = r'(?:DOB|Date of Birth|जन्म तिथि)[^\\d]*(\\d{2}[/-]\\d{2}[/-]\\d{4})'\n",
    "    gender_pattern = r'(MALE|FEMALE|TRANSGENDER|पुरुष|महिला|ट्रांसजेंडर)'\n",
    "    aadhar_pattern = r'(\\d{4}\\s\\d{4}\\s\\d{4}|XXXX\\sXXXX\\sXXXX)'\n",
    "\n",
    "    name = re.findall(name_pattern, text)\n",
    "    dob = re.search(dob_pattern, text)\n",
    "    gender = re.search(gender_pattern, text)\n",
    "    aadhar = re.search(aadhar_pattern, text)\n",
    "\n",
    "    return {\n",
    "        \"Name\": name[0] if name else None,\n",
    "        \"Date of Birth\": dob.group(1) if dob else None,\n",
    "        \"Gender\": gender.group(1) if gender else None,\n",
    "        \"Aadhaar\": aadhar.group(1) if aadhar else None\n",
    "    }\n"
   ]
  },
  {
   "cell_type": "code",
   "execution_count": 79,
   "id": "031c2aa9",
   "metadata": {},
   "outputs": [],
   "source": [
    "import easyocr\n",
    "\n",
    "def extract_text_from_image(image):\n",
    "    reader = easyocr.Reader(['en', 'hi'])  # Aadhaar uses both\n",
    "    results = reader.readtext(image)\n",
    "    text_blocks = [text[1] for text in results if text[2] > 0.1]  # confidence threshold\n",
    "    return \" \".join(text_blocks)\n"
   ]
  },
  {
   "cell_type": "code",
   "execution_count": 80,
   "id": "99865187",
   "metadata": {},
   "outputs": [],
   "source": [
    "def preprocess_image(image_path):\n",
    "    import cv2\n",
    "    image = cv2.imread(image_path, cv2.IMREAD_GRAYSCALE)\n",
    "    if image is None:\n",
    "        raise FileNotFoundError(f\"Could not load image at path: {image_path}\")\n",
    "    image = cv2.resize(image, None, fx=2, fy=2, interpolation=cv2.INTER_CUBIC)\n",
    "    _, thresh = cv2.threshold(image, 150, 255, cv2.THRESH_BINARY + cv2.THRESH_OTSU)\n",
    "    return thresh\n",
    "\n",
    "\n",
    "def normalize_digits(text):\n",
    "    devanagari_nums = '०१२३४५६७८९'\n",
    "    english_nums = '0123456789'\n",
    "    trans_table = str.maketrans(devanagari_nums, english_nums)\n",
    "    return text.translate(trans_table)\n"
   ]
  },
  {
   "cell_type": "code",
   "execution_count": 81,
   "id": "f0d8fc24",
   "metadata": {},
   "outputs": [
    {
     "name": "stdout",
     "output_type": "stream",
     "text": [
      "{'Name': 'Rishav Ranjan', 'DOB': '16/10/2005', 'Gender': 'MALE', 'Aadhaar': '3016 7523 3916'}\n"
     ]
    }
   ],
   "source": [
    "import re\n",
    "\n",
    "def extract_aadhaar_fields(raw_text):\n",
    "    text = normalize_digits(raw_text)\n",
    "\n",
    "    # Extract DOB\n",
    "    dob = re.search(r'\\d{2}/\\d{2}/\\d{4}', text)\n",
    "    dob = dob.group() if dob else None\n",
    "\n",
    "    # Extract Aadhaar number\n",
    "    aadhaar = re.search(r'\\d{4}\\s\\d{4}\\s\\d{4}', text)\n",
    "    aadhaar = aadhaar.group() if aadhaar else None\n",
    "\n",
    "    # Extract Gender\n",
    "    gender = \"MALE\" if \"MALE\" in text.upper() or \"पुरुष\" in text else (\n",
    "             \"FEMALE\" if \"FEMALE\" in text.upper() or \"महिला\" in text else None)\n",
    "\n",
    "    # Extract Name\n",
    "    # Assume name is the sequence of words near \"Rishav\", or the last capitalized English name\n",
    "    name_match = re.search(r'([A-Z][a-z]+(?:\\s[A-Z][a-z]+)+)', text)\n",
    "    name = name_match.group() if name_match else None\n",
    "\n",
    "    return {\n",
    "        \"Name\": name,\n",
    "        \"DOB\": dob,\n",
    "        \"Gender\": gender,\n",
    "        \"Aadhaar\": aadhaar\n",
    "    }\n",
    "\n",
    "\n",
    "raw = \"भारत सरकार Coiarit d Iida आधार ऋषभ रंजन Rishav Ranjan जन्म तिथि 008: 16/10/2005 पुरुष / MALE 3016 7523 3916 मेरा आधार , मेरी पहचान\"\n",
    "data = extract_aadhaar_fields(raw)\n",
    "print(data)"
   ]
  },
  {
   "cell_type": "code",
   "execution_count": 90,
   "id": "a7841dd0",
   "metadata": {},
   "outputs": [
    {
     "name": "stderr",
     "output_type": "stream",
     "text": [
      "Neither CUDA nor MPS are available - defaulting to CPU. Note: This module is much faster with a GPU.\n"
     ]
    }
   ],
   "source": [
    "image_path = \"WhatsApp Image 2025-04-18 at 1.36.20 PM.jpeg\"\n",
    "pre_img = preprocess_image(image_path)\n",
    "text = extract_text_from_image(pre_img)"
   ]
  },
  {
   "cell_type": "code",
   "execution_count": 92,
   "id": "1f3a5706",
   "metadata": {},
   "outputs": [
    {
     "name": "stdout",
     "output_type": "stream",
     "text": [
      "m्म रिपारी Suslwm Tiwar पुएम/ MALE 2008 9464 5177 मेरा आधार, मेरी पहचान\n"
     ]
    }
   ],
   "source": [
    "data = extract_aadhaar_fields(text)\n",
    "print(text)"
   ]
  },
  {
   "cell_type": "code",
   "execution_count": 105,
   "id": "ac903ebe",
   "metadata": {},
   "outputs": [],
   "source": [
    "import re\n",
    "\n",
    "def normalize_digits(text):\n",
    "    # Convert Hindi numerals to English (if any)\n",
    "    devanagari_nums = '०१२३४५६७८९'\n",
    "    english_nums = '0123456789'\n",
    "    return text.translate(str.maketrans(devanagari_nums, english_nums))\n",
    "\n",
    "def extract_clean_fields(raw_text):\n",
    "    text = normalize_digits(raw_text)\n",
    "    \n",
    "    # Extract Name (first proper capitalized name with 2+ words)\n",
    "    name_match = re.search(r'\\b([A-Z][a-z]+(?:\\s[A-Z][a-z]+)+)\\b', text)\n",
    "    name = name_match.group(1) if name_match else None\n",
    "\n",
    "    # Extract DOB\n",
    "    dob_match = re.search(r'\\d{2}/\\d{2}/\\d{4}', text)\n",
    "    dob = dob_match.group() if dob_match else None\n",
    "\n",
    "    # Extract Gender\n",
    "    if 'MALE' in text:\n",
    "        gender = 'MALE'\n",
    "    elif 'FEMALE' in text:\n",
    "        gender = 'FEMALE'\n",
    "    else:\n",
    "        gender = None\n",
    "\n",
    "    # Extract Aadhaar number (12-digit format: xxxx xxxx xxxx)\n",
    "    aadhaar_match = re.search(r'\\b\\d{4}[\\s\\-\\.]?\\d{4}[\\s\\-\\.]?\\d{4}\\b', text)\n",
    "    aadhaar = aadhaar_match.group().replace('-', ' ').replace('.', ' ') if aadhaar_match else None\n",
    "\n",
    "    return {\n",
    "        'Name': name,\n",
    "        'DOB': dob,\n",
    "        'Gender': gender,\n",
    "        'Aadhaar': aadhaar\n",
    "    }\n",
    "\n",
    "def truncate_from_vid(text):\n",
    "    keyword = \"VID\"\n",
    "    if keyword in text:\n",
    "        return text.split(keyword)[0].strip()  # remove everything from VID onwards\n",
    "    return text.strip()  # return original if VID not found\n",
    "\n"
   ]
  },
  {
   "cell_type": "code",
   "execution_count": 119,
   "id": "021030de",
   "metadata": {},
   "outputs": [
    {
     "data": {
      "text/plain": [
       "'|Priyanka Kumari|DOB: 1995-17-06|Female|9147385602|3Te|'"
      ]
     },
     "execution_count": 119,
     "metadata": {},
     "output_type": "execute_result"
    }
   ],
   "source": [
    "text = \"|Priyanka Kumari|DOB: 1995-17-06|Female|9147385602|3Te|\"\n",
    "text = normalize_digits(text)\n",
    "text = truncate_from_vid(text)\n",
    "text"
   ]
  },
  {
   "cell_type": "code",
   "execution_count": 120,
   "id": "20a6e5d4",
   "metadata": {},
   "outputs": [
    {
     "data": {
      "text/plain": [
       "{'Name': 'Priyanka Kumari', 'DOB': None, 'Gender': None, 'Aadhaar': None}"
      ]
     },
     "execution_count": 120,
     "metadata": {},
     "output_type": "execute_result"
    }
   ],
   "source": [
    "extract_clean_fields(text)"
   ]
  },
  {
   "cell_type": "code",
   "execution_count": 113,
   "id": "3c1c322d",
   "metadata": {},
   "outputs": [
    {
     "data": {
      "text/plain": [
       "'2005-02-07'"
      ]
     },
     "execution_count": 113,
     "metadata": {},
     "output_type": "execute_result"
    }
   ],
   "source": [
    "from datetime import datetime\n",
    "text = \"07/02/2005\"\n",
    "date_obj = datetime.strptime(text, \"%d/%m/%Y\")\n",
    "date_obj.strftime('%Y-%m-%d')"
   ]
  },
  {
   "cell_type": "code",
   "execution_count": 123,
   "id": "c271675c",
   "metadata": {},
   "outputs": [],
   "source": [
    "arr = '''[-0.20647378  0.11742667  0.08624212 -0.02662629 -0.02220517 -0.0058797\n",
    "  0.0152042  -0.05426366  0.15940809 -0.06140548  0.23382628 -0.01395828\n",
    " -0.15439057 -0.17287491 -0.05324142  0.06056122 -0.11947733 -0.18890727\n",
    "  0.01155647 -0.10165109  0.12306701  0.03594084 -0.01264772  0.06696057\n",
    " -0.2272352  -0.33907688 -0.0233891  -0.16224524  0.06986827 -0.12414453\n",
    " -0.03294193  0.03045478 -0.18189214  0.00584281 -0.06458424  0.13756827\n",
    "  0.05002759  0.02797477  0.13048871  0.03760564 -0.14098807 -0.02747709\n",
    "  0.00310716  0.31195199  0.16016361  0.01340836  0.01808142 -0.02546342\n",
    "  0.05598837 -0.20404287  0.02328693  0.15806101  0.14099808  0.00469697\n",
    "  0.10017949 -0.10682328 -0.03508019 -0.03065503 -0.16978313  0.06344254\n",
    " -0.01457671 -0.05493565 -0.05154479 -0.03924793  0.14494345  0.02093075\n",
    " -0.07811058 -0.08003723  0.16888157 -0.15775311 -0.03300582  0.11579999\n",
    " -0.02659567 -0.14969641 -0.20441915  0.08405729  0.42419243  0.14291857\n",
    " -0.17689601  0.08765633 -0.1613453  -0.05762089  0.04526284 -0.01771237\n",
    " -0.08877673  0.05154691 -0.17859621  0.06384777  0.14225556  0.00367226\n",
    "  0.03374977  0.15089396  0.00720143  0.03013624  0.03696548  0.05425546\n",
    " -0.13831723  0.0964893  -0.03328162 -0.02715365  0.07312605 -0.11696307\n",
    "  0.01829132  0.0389063  -0.21186319  0.12293202  0.03941235 -0.06246315\n",
    "  0.00533076  0.0618738  -0.11821048 -0.03742075  0.11439694 -0.28637981\n",
    "  0.13183531  0.17933178 -0.0095038   0.19305216  0.08872113  0.0557092\n",
    " -0.00841733 -0.06017147 -0.08541488 -0.08862396 -0.0031976  -0.06499568\n",
    "  0.0075346   0.03265548]'''"
   ]
  },
  {
   "cell_type": "code",
   "execution_count": 126,
   "id": "b8d029a0",
   "metadata": {},
   "outputs": [],
   "source": [
    "arr_fixed = \"[\" + \", \".join(arr.strip(\"[]\").split()) + \"]\""
   ]
  },
  {
   "cell_type": "code",
   "execution_count": 131,
   "id": "e0978af0",
   "metadata": {},
   "outputs": [
    {
     "name": "stdout",
     "output_type": "stream",
     "text": [
      "<class 'numpy.ndarray'>\n",
      "[-0.20647378  0.11742667  0.08624212 -0.02662629 -0.02220517 -0.0058797\n",
      "  0.0152042  -0.05426366  0.15940809 -0.06140548  0.23382628 -0.01395828\n",
      " -0.15439057 -0.17287491 -0.05324142  0.06056122 -0.11947733 -0.18890727\n",
      "  0.01155647 -0.10165109  0.12306701  0.03594084 -0.01264772  0.06696057\n",
      " -0.2272352  -0.33907688 -0.0233891  -0.16224524  0.06986827 -0.12414453\n",
      " -0.03294193  0.03045478 -0.18189214  0.00584281 -0.06458424  0.13756827\n",
      "  0.05002759  0.02797477  0.13048871  0.03760564 -0.14098807 -0.02747709\n",
      "  0.00310716  0.31195199  0.16016361  0.01340836  0.01808142 -0.02546342\n",
      "  0.05598837 -0.20404287  0.02328693  0.15806101  0.14099808  0.00469697\n",
      "  0.10017949 -0.10682328 -0.03508019 -0.03065503 -0.16978313  0.06344254\n",
      " -0.01457671 -0.05493565 -0.05154479 -0.03924793  0.14494345  0.02093075\n",
      " -0.07811058 -0.08003723  0.16888157 -0.15775311 -0.03300582  0.11579999\n",
      " -0.02659567 -0.14969641 -0.20441915  0.08405729  0.42419243  0.14291857\n",
      " -0.17689601  0.08765633 -0.1613453  -0.05762089  0.04526284 -0.01771237\n",
      " -0.08877673  0.05154691 -0.17859621  0.06384777  0.14225556  0.00367226\n",
      "  0.03374977  0.15089396  0.00720143  0.03013624  0.03696548  0.05425546\n",
      " -0.13831723  0.0964893  -0.03328162 -0.02715365  0.07312605 -0.11696307\n",
      "  0.01829132  0.0389063  -0.21186319  0.12293202  0.03941235 -0.06246315\n",
      "  0.00533076  0.0618738  -0.11821048 -0.03742075  0.11439694 -0.28637981\n",
      "  0.13183531  0.17933178 -0.0095038   0.19305216  0.08872113  0.0557092\n",
      " -0.00841733 -0.06017147 -0.08541488 -0.08862396 -0.0031976  -0.06499568\n",
      "  0.0075346   0.03265548]\n"
     ]
    }
   ],
   "source": [
    "import ast\n",
    "import numpy as np\n",
    "result = np.array(ast.literal_eval(arr_fixed))\n",
    "print(type(result))\n",
    "print(result)"
   ]
  },
  {
   "cell_type": "code",
   "execution_count": null,
   "id": "0919f35c",
   "metadata": {},
   "outputs": [],
   "source": []
  }
 ],
 "metadata": {
  "kernelspec": {
   "display_name": "Python 3",
   "language": "python",
   "name": "python3"
  },
  "language_info": {
   "codemirror_mode": {
    "name": "ipython",
    "version": 3
   },
   "file_extension": ".py",
   "mimetype": "text/x-python",
   "name": "python",
   "nbconvert_exporter": "python",
   "pygments_lexer": "ipython3",
   "version": "3.9.0"
  }
 },
 "nbformat": 4,
 "nbformat_minor": 5
}
